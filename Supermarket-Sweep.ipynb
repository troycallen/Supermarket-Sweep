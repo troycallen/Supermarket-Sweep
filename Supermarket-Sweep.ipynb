{
 "cells": [
  {
   "cell_type": "code",
   "execution_count": 2,
   "id": "e4347651",
   "metadata": {},
   "outputs": [
    {
     "ename": "ModuleNotFoundError",
     "evalue": "No module named 'gurobipy'",
     "output_type": "error",
     "traceback": [
      "\u001b[1;31m---------------------------------------------------------------------------\u001b[0m",
      "\u001b[1;31mModuleNotFoundError\u001b[0m                       Traceback (most recent call last)",
      "Input \u001b[1;32mIn [2]\u001b[0m, in \u001b[0;36m<cell line: 1>\u001b[1;34m()\u001b[0m\n\u001b[1;32m----> 1\u001b[0m \u001b[38;5;28;01mfrom\u001b[39;00m \u001b[38;5;21;01mgurobipy\u001b[39;00m \u001b[38;5;28;01mimport\u001b[39;00m \u001b[38;5;241m*\u001b[39m\n\u001b[0;32m      2\u001b[0m \u001b[38;5;28;01mimport\u001b[39;00m \u001b[38;5;21;01mpandas\u001b[39;00m \u001b[38;5;28;01mas\u001b[39;00m \u001b[38;5;21;01mpd\u001b[39;00m\n\u001b[0;32m      3\u001b[0m \u001b[38;5;28;01mimport\u001b[39;00m \u001b[38;5;21;01mgurobipy\u001b[39;00m \u001b[38;5;28;01mas\u001b[39;00m \u001b[38;5;21;01mgp\u001b[39;00m\n",
      "\u001b[1;31mModuleNotFoundError\u001b[0m: No module named 'gurobipy'"
     ]
    }
   ],
   "source": [
    "from gurobipy import *\n",
    "import pandas as pd\n",
    "import gurobipy as gp"
   ]
  },
  {
   "cell_type": "code",
   "execution_count": 3,
   "id": "129a0635",
   "metadata": {
    "scrolled": true
   },
   "outputs": [
    {
     "ename": "NameError",
     "evalue": "name 'pd' is not defined",
     "output_type": "error",
     "traceback": [
      "\u001b[1;31m---------------------------------------------------------------------------\u001b[0m",
      "\u001b[1;31mNameError\u001b[0m                                 Traceback (most recent call last)",
      "Input \u001b[1;32mIn [3]\u001b[0m, in \u001b[0;36m<cell line: 1>\u001b[1;34m()\u001b[0m\n\u001b[1;32m----> 1\u001b[0m distances \u001b[38;5;241m=\u001b[39m \u001b[43mpd\u001b[49m\u001b[38;5;241m.\u001b[39mread_excel(\u001b[38;5;124m'\u001b[39m\u001b[38;5;124mdistances.xlsx\u001b[39m\u001b[38;5;124m'\u001b[39m, index_col\u001b[38;5;241m=\u001b[39m\u001b[38;5;241m0\u001b[39m)\n\u001b[0;32m      2\u001b[0m distances \u001b[38;5;241m=\u001b[39m distances\u001b[38;5;241m.\u001b[39mdrop([\u001b[38;5;124m\"\u001b[39m\u001b[38;5;124mPrice\u001b[39m\u001b[38;5;124m\"\u001b[39m, \u001b[38;5;124m\"\u001b[39m\u001b[38;5;124mX Position\u001b[39m\u001b[38;5;124m\"\u001b[39m, \u001b[38;5;124m\"\u001b[39m\u001b[38;5;124mY Position\u001b[39m\u001b[38;5;124m\"\u001b[39m, \u001b[38;5;124m\"\u001b[39m\u001b[38;5;124mItem\u001b[39m\u001b[38;5;124m\"\u001b[39m], axis \u001b[38;5;241m=\u001b[39m \u001b[38;5;241m1\u001b[39m)\n\u001b[0;32m      3\u001b[0m distances \u001b[38;5;241m=\u001b[39m distances\u001b[38;5;241m.\u001b[39mset_axis([idx \u001b[38;5;28;01mfor\u001b[39;00m idx \u001b[38;5;129;01min\u001b[39;00m distances\u001b[38;5;241m.\u001b[39mindex], axis \u001b[38;5;241m=\u001b[39m \u001b[38;5;241m1\u001b[39m)\n",
      "\u001b[1;31mNameError\u001b[0m: name 'pd' is not defined"
     ]
    }
   ],
   "source": [
    "distances = pd.read_excel('distances.xlsx', index_col=0)\n",
    "distances = distances.drop([\"Price\", \"X Position\", \"Y Position\", \"Item\"], axis = 1)\n",
    "distances = distances.set_axis([idx for idx in distances.index], axis = 1)\n",
    "#distances[57] = distances[0]\n",
    "display(distances)\n",
    "\n",
    "distances = {(i, j): distances.at[i, j] for i in distances.index for j in list(distances.set_index(distances.columns).reset_index(drop = True).index)}\n",
    "\n",
    "c = distances\n"
   ]
  },
  {
   "cell_type": "code",
   "execution_count": 4,
   "id": "8eae202c",
   "metadata": {},
   "outputs": [
    {
     "ename": "NameError",
     "evalue": "name 'c' is not defined",
     "output_type": "error",
     "traceback": [
      "\u001b[1;31m---------------------------------------------------------------------------\u001b[0m",
      "\u001b[1;31mNameError\u001b[0m                                 Traceback (most recent call last)",
      "Input \u001b[1;32mIn [4]\u001b[0m, in \u001b[0;36m<cell line: 1>\u001b[1;34m()\u001b[0m\n\u001b[1;32m----> 1\u001b[0m display(\u001b[43mc\u001b[49m)\n",
      "\u001b[1;31mNameError\u001b[0m: name 'c' is not defined"
     ]
    }
   ],
   "source": [
    "display(c)"
   ]
  },
  {
   "cell_type": "code",
   "execution_count": 5,
   "id": "f9fc352b",
   "metadata": {},
   "outputs": [
    {
     "ename": "NameError",
     "evalue": "name 'distances' is not defined",
     "output_type": "error",
     "traceback": [
      "\u001b[1;31m---------------------------------------------------------------------------\u001b[0m",
      "\u001b[1;31mNameError\u001b[0m                                 Traceback (most recent call last)",
      "Input \u001b[1;32mIn [5]\u001b[0m, in \u001b[0;36m<cell line: 1>\u001b[1;34m()\u001b[0m\n\u001b[1;32m----> 1\u001b[0m \u001b[43mdistances\u001b[49m\u001b[38;5;241m.\u001b[39mindex\n",
      "\u001b[1;31mNameError\u001b[0m: name 'distances' is not defined"
     ]
    }
   ],
   "source": [
    "distances.index"
   ]
  },
  {
   "cell_type": "code",
   "execution_count": 6,
   "id": "ef4107f8",
   "metadata": {},
   "outputs": [
    {
     "ename": "NameError",
     "evalue": "name 'distances' is not defined",
     "output_type": "error",
     "traceback": [
      "\u001b[1;31m---------------------------------------------------------------------------\u001b[0m",
      "\u001b[1;31mNameError\u001b[0m                                 Traceback (most recent call last)",
      "Input \u001b[1;32mIn [6]\u001b[0m, in \u001b[0;36m<cell line: 1>\u001b[1;34m()\u001b[0m\n\u001b[1;32m----> 1\u001b[0m \u001b[43mdistances\u001b[49m\u001b[38;5;241m.\u001b[39mshape[\u001b[38;5;241m1\u001b[39m]\n",
      "\u001b[1;31mNameError\u001b[0m: name 'distances' is not defined"
     ]
    }
   ],
   "source": [
    "distances.shape[1]"
   ]
  },
  {
   "cell_type": "code",
   "execution_count": 7,
   "id": "a34c948f",
   "metadata": {},
   "outputs": [
    {
     "ename": "NameError",
     "evalue": "name 'gp' is not defined",
     "output_type": "error",
     "traceback": [
      "\u001b[1;31m---------------------------------------------------------------------------\u001b[0m",
      "\u001b[1;31mNameError\u001b[0m                                 Traceback (most recent call last)",
      "Input \u001b[1;32mIn [7]\u001b[0m, in \u001b[0;36m<cell line: 1>\u001b[1;34m()\u001b[0m\n\u001b[1;32m----> 1\u001b[0m model \u001b[38;5;241m=\u001b[39m \u001b[43mgp\u001b[49m\u001b[38;5;241m.\u001b[39mModel(\u001b[38;5;124m\"\u001b[39m\u001b[38;5;124mSupermarket_Sweep\u001b[39m\u001b[38;5;124m\"\u001b[39m)\n\u001b[0;32m      3\u001b[0m distances \u001b[38;5;241m=\u001b[39m pd\u001b[38;5;241m.\u001b[39mread_excel(\u001b[38;5;124m'\u001b[39m\u001b[38;5;124mdistances.xlsx\u001b[39m\u001b[38;5;124m'\u001b[39m, index_col\u001b[38;5;241m=\u001b[39m\u001b[38;5;241m0\u001b[39m)\n\u001b[0;32m      4\u001b[0m n\u001b[38;5;241m=\u001b[39m\u001b[38;5;28mlen\u001b[39m(distances)\u001b[38;5;241m-\u001b[39m\u001b[38;5;241m4\u001b[39m\n",
      "\u001b[1;31mNameError\u001b[0m: name 'gp' is not defined"
     ]
    }
   ],
   "source": [
    "model = gp.Model(\"Supermarket_Sweep\")\n",
    "\n",
    "distances = pd.read_excel('distances.xlsx', index_col=0)\n",
    "n=len(distances)-4\n",
    "times= pd.read_excel('times.xlsx', index_col=0)\n",
    "prices= pd.read_excel('times.xlsx')\n",
    "prices=prices[\"Price\"]\n",
    "x = {}\n",
    "y = {}\n",
    "#distances \n",
    "print(n)\n",
    "t = {}\n",
    "#time\n",
    "M = 1000 \n",
    "\n",
    "for a in range(1, 3):\n",
    "    for i in range(1, n+2):\n",
    "        for j in range(1, n+2):\n",
    "            x[a, i, j] = model.addVar(vtype=GRB.BINARY, name=f\"x_{a}_{i}_{j}\")\n",
    "            t[a, i, j] = model.addVar(name=f\"t_{a}_{i}_{j}\")\n",
    "for a in range(1, 3):\n",
    "    for j in range(1, n+2):\n",
    "        y[a, j] = model.addVar(name=f\"y_{a}_{i}_{j}\")\n",
    "\n",
    "# Objective Function\n",
    "model.setObjective(quicksum(prices[j] * x[a, i, j] for i in range(1, n) for j in range(2, n+2) for a in range(1, 3)), GRB.MAXIMIZE)\n",
    "\n",
    "\n",
    "#constraint adding for part b formulation\n",
    "\n",
    "model.addConstr(0.1 * y[1, n+1] + quicksum(2 * x[1, i, j] for i in range(1, n+1) for j in range(1, n+2)) <= 22)\n",
    "model.addConstr(0.1 * y[2, n+1] + quicksum(2 * x[2, i, j] for i in range(1, n+1) for j in range(1, n+2)) <= 22)\n",
    "\n",
    "    # Constraint 2\n",
    "#model.addConstr(quicksum(x[a, i, j] for i in range(1, n) for j in range(2, n+2)) <= 10)\n",
    "model.addConstr(quicksum(x[1, i, j] for i in range(1, n) for j in range(1, n+2)) <= 9)\n",
    "model.addConstr(quicksum(x[2, i, j] for i in range(1, n) for j in range(1, n+2)) <= 9)\n",
    "#model.addConstr(quicksum(x[a, i, j] for i in range(1, n+1) for j in range(2, n+2)) <= 10 for a in range(1, 3))\n",
    "   \n",
    "    # Constraint 3\n",
    "model.addConstr(quicksum(x[a, 1, j] + x[a, 2, j] for j in range(2, n+2)) <= 1)\n",
    "#model.addConstr(quicksum(x[1, i, j] + x[2, i, j] for i in range(1, n+1) for j in range(2, n+2)) <= 1)\n",
    "   \n",
    "#sales person constraints \n",
    "model.addConstrs(t[a, i, j] <= M * x[a, i, j] for a in range(1, 3) for i in range(1, n) for j in range(2, n+2))\n",
    "model.addConstrs(y[a, 1] == 0 for a in range(1, 3))\n",
    "\n",
    "model.addConstrs(y[1, j] <= quicksum(t[1, i, j] for i in range(1, n + 1)) for j in range(2, n + 1) for j in range(1, n + 1))\n",
    "model.addConstrs(y[2, j] <= quicksum(t[2, i, j] for i in range(1, n + 1)) for j in range(2, n + 1) for j in range(1, n + 1))\n",
    "model.addConstrs(y[1, j] >= quicksum(t[1, i, j] for i in range(1, n + 1)) for j in range(2, n + 1) for j in range(1, n + 1))\n",
    "model.addConstrs(y[2, j] >= quicksum(t[2, i, j] for i in range(1, n + 1)) for j in range(2, n + 1) for j in range(1, n + 1))\n",
    "\n",
    "\n",
    "model.addConstrs(quicksum(t[a, j, k] for k in range(2, n + 1)) == y[a, j] + quicksum(c[j, k] * x[a, j, k]for j in range(i, n+1)) for a in range(1, 3))\n",
    "#model.addConstrs(quicksum(t[a, j, k]) >= y[a, j] + quicksum(c[j, k] * x[i, j, k]) for i in range(i, n+1) for a in range(1, 3))\n",
    "#model.addConstrs((x[a, i, j] == 0) or (x[a, i, j] == 1) for a in range(1, 3) for i in range(1, n+1) for j in range(2, n+2))\n",
    "\n",
    "# Ensure each shopper leaves node one once\n",
    "model.addConstrs(quicksum(x[1, 1, j]for j in range(2, n + 1)) == 1 for j in range(2, n + 1))\n",
    "model.addConstrs(quicksum(x[2, 1, j]for j in range(2, n + 1)) == 1 for j in range(2, n + 1))\n",
    "#model.addConstrs(quicksum(x[1, 1, j]for j in range(2, n + 1)) >= 1 for j in range(2, n + 1))\n",
    "#model.addConstrs(quicksum(x[2, 1, j]for j in range(2, n + 1)) >= 1 for j in range(2, n + 1))\n",
    "\n",
    "# Ensure each shopper enters node one once\n",
    "model.addConstrs(quicksum(x[1, i, 1]for i in range(1, n + 1)) == 1 for i in range(1, n + 1))\n",
    "model.addConstrs(quicksum(x[2, i, 1]for i in range(1, n + 1)) == 1 for i in range(1, n + 1))\n",
    "#model.addConstrs(quicksum(x[1, i, 1]for i in range(1, n + 1)) >= 1 for i in range(1, n + 1))\n",
    "#model.addConstrs(quicksum(x[2, i, 1]for i in range(1, n + 1)) >= 1 for i in range(1, n + 1))\n",
    "\n",
    "# Shoppers leave and enter other nodes at most once\n",
    "model.addConstrs(quicksum(x[1, i, j] for j in range(2, n + 1) for i in range(1,n)) <= 1 for i in range (2, n+1))\n",
    "model.addConstrs(quicksum(x[2, i, j] for j in range(2, n + 1) for i in range(1,n)) <= 1 for i in range (2, n+1))\n",
    "#model.addConstrs(quicksum(x[1, j, i] for i in range(1, n + 1)) <= 1 for j in range (1, n))\n",
    "#model.addConstrs(quicksum(x[2, j, i] for i in range(1, n + 1)) <= 1 for j in range (1, n))\n",
    "\n",
    "\n",
    "\n",
    "# If a shopper enters a node they must leave it\n",
    "model.addConstrs(quicksum(x[1, i, j] for j in range(1, n)) == quicksum(x[1, j, i] for j in range(1, n)) for i in range (1, n))\n",
    "#model.addConstrs(quicksum(x[1, i, j] for j in range(1, n + 1)) >= quicksum(x[1, j, i] for j in range(1, n+1)) for i in range (1, n+1))\n",
    "\n",
    "# We don't use the x[a, i, i] items so that we dont just stay at the same node for no reason\n",
    "#model.addConstrs(quicksum(x[1, i, i] for i in range (1, n + 1)) < 1)\n",
    "\n",
    "# if a shopper leaves goes to item j, they must also leave that item\n",
    "\n",
    "model.optimize()\n"
   ]
  },
  {
   "cell_type": "code",
   "execution_count": 8,
   "id": "44ab49e6",
   "metadata": {
    "scrolled": true
   },
   "outputs": [
    {
     "ename": "NameError",
     "evalue": "name 'model' is not defined",
     "output_type": "error",
     "traceback": [
      "\u001b[1;31m---------------------------------------------------------------------------\u001b[0m",
      "\u001b[1;31mNameError\u001b[0m                                 Traceback (most recent call last)",
      "Input \u001b[1;32mIn [8]\u001b[0m, in \u001b[0;36m<cell line: 1>\u001b[1;34m()\u001b[0m\n\u001b[1;32m----> 1\u001b[0m \u001b[38;5;28;01mfor\u001b[39;00m var \u001b[38;5;129;01min\u001b[39;00m \u001b[43mmodel\u001b[49m\u001b[38;5;241m.\u001b[39mgetVars():\n\u001b[0;32m      2\u001b[0m     \u001b[38;5;28;01mif\u001b[39;00m var\u001b[38;5;241m.\u001b[39mX \u001b[38;5;241m!=\u001b[39m \u001b[38;5;241m0\u001b[39m:\n\u001b[0;32m      3\u001b[0m         \u001b[38;5;28mprint\u001b[39m(\u001b[38;5;124mf\u001b[39m\u001b[38;5;124m\"\u001b[39m\u001b[38;5;132;01m{\u001b[39;00mvar\u001b[38;5;241m.\u001b[39mVarName\u001b[38;5;132;01m}\u001b[39;00m\u001b[38;5;124m: \u001b[39m\u001b[38;5;132;01m{\u001b[39;00mvar\u001b[38;5;241m.\u001b[39mX\u001b[38;5;132;01m}\u001b[39;00m\u001b[38;5;124m\"\u001b[39m)\n",
      "\u001b[1;31mNameError\u001b[0m: name 'model' is not defined"
     ]
    }
   ],
   "source": [
    "for var in model.getVars():\n",
    "    if var.X != 0:\n",
    "        print(f\"{var.VarName}: {var.X}\")"
   ]
  },
  {
   "cell_type": "code",
   "execution_count": 9,
   "id": "dcb59434",
   "metadata": {
    "scrolled": true
   },
   "outputs": [
    {
     "ename": "NameError",
     "evalue": "name 'model' is not defined",
     "output_type": "error",
     "traceback": [
      "\u001b[1;31m---------------------------------------------------------------------------\u001b[0m",
      "\u001b[1;31mNameError\u001b[0m                                 Traceback (most recent call last)",
      "Input \u001b[1;32mIn [9]\u001b[0m, in \u001b[0;36m<cell line: 1>\u001b[1;34m()\u001b[0m\n\u001b[1;32m----> 1\u001b[0m \u001b[38;5;28;01mfor\u001b[39;00m var \u001b[38;5;129;01min\u001b[39;00m \u001b[43mmodel\u001b[49m\u001b[38;5;241m.\u001b[39mgetVars():\n\u001b[0;32m      2\u001b[0m     \u001b[38;5;28;01mif\u001b[39;00m \u001b[38;5;124m'\u001b[39m\u001b[38;5;124my\u001b[39m\u001b[38;5;124m'\u001b[39m \u001b[38;5;129;01min\u001b[39;00m var\u001b[38;5;241m.\u001b[39mVarName:\n\u001b[0;32m      3\u001b[0m         \u001b[38;5;28mprint\u001b[39m(var\u001b[38;5;241m.\u001b[39mVarName)\n",
      "\u001b[1;31mNameError\u001b[0m: name 'model' is not defined"
     ]
    }
   ],
   "source": [
    "for var in model.getVars():\n",
    "    if 'y' in var.VarName:\n",
    "        print(var.VarName)"
   ]
  },
  {
   "cell_type": "code",
   "execution_count": 10,
   "id": "ab6be77d",
   "metadata": {},
   "outputs": [
    {
     "ename": "NameError",
     "evalue": "name 'model' is not defined",
     "output_type": "error",
     "traceback": [
      "\u001b[1;31m---------------------------------------------------------------------------\u001b[0m",
      "\u001b[1;31mNameError\u001b[0m                                 Traceback (most recent call last)",
      "Input \u001b[1;32mIn [10]\u001b[0m, in \u001b[0;36m<cell line: 1>\u001b[1;34m()\u001b[0m\n\u001b[1;32m----> 1\u001b[0m \u001b[43mmodel\u001b[49m\u001b[38;5;241m.\u001b[39mwrite(\u001b[38;5;124m'\u001b[39m\u001b[38;5;124mTSP.lp\u001b[39m\u001b[38;5;124m'\u001b[39m)\n",
      "\u001b[1;31mNameError\u001b[0m: name 'model' is not defined"
     ]
    }
   ],
   "source": [
    "model.write('TSP.lp')"
   ]
  },
  {
   "cell_type": "code",
   "execution_count": null,
   "id": "cf3951df",
   "metadata": {},
   "outputs": [],
   "source": []
  },
  {
   "cell_type": "code",
   "execution_count": 11,
   "id": "6fd5cfa7",
   "metadata": {},
   "outputs": [
    {
     "ename": "NameError",
     "evalue": "name 't' is not defined",
     "output_type": "error",
     "traceback": [
      "\u001b[1;31m---------------------------------------------------------------------------\u001b[0m",
      "\u001b[1;31mNameError\u001b[0m                                 Traceback (most recent call last)",
      "Input \u001b[1;32mIn [11]\u001b[0m, in \u001b[0;36m<cell line: 1>\u001b[1;34m()\u001b[0m\n\u001b[1;32m----> 1\u001b[0m display(\u001b[43mt\u001b[49m)\n",
      "\u001b[1;31mNameError\u001b[0m: name 't' is not defined"
     ]
    }
   ],
   "source": [
    "display(t)"
   ]
  },
  {
   "cell_type": "code",
   "execution_count": 12,
   "id": "27e0a211",
   "metadata": {},
   "outputs": [
    {
     "ename": "NameError",
     "evalue": "name 'model' is not defined",
     "output_type": "error",
     "traceback": [
      "\u001b[1;31m---------------------------------------------------------------------------\u001b[0m",
      "\u001b[1;31mNameError\u001b[0m                                 Traceback (most recent call last)",
      "Input \u001b[1;32mIn [12]\u001b[0m, in \u001b[0;36m<cell line: 3>\u001b[1;34m()\u001b[0m\n\u001b[0;32m      1\u001b[0m \u001b[38;5;66;03m#part e formulation\u001b[39;00m\n\u001b[1;32m----> 3\u001b[0m \u001b[43mmodel\u001b[49m\u001b[38;5;241m.\u001b[39msetObjective(quicksum(prices[i] \u001b[38;5;241m*\u001b[39m x[a, i, j] \u001b[38;5;28;01mfor\u001b[39;00m i \u001b[38;5;129;01min\u001b[39;00m \u001b[38;5;28mrange\u001b[39m(\u001b[38;5;241m1\u001b[39m, n\u001b[38;5;241m+\u001b[39m\u001b[38;5;241m1\u001b[39m) \u001b[38;5;28;01mfor\u001b[39;00m j \u001b[38;5;129;01min\u001b[39;00m \u001b[38;5;28mrange\u001b[39m(\u001b[38;5;241m2\u001b[39m, n\u001b[38;5;241m+\u001b[39m\u001b[38;5;241m2\u001b[39m) \u001b[38;5;28;01mfor\u001b[39;00m a \u001b[38;5;129;01min\u001b[39;00m \u001b[38;5;28mrange\u001b[39m(\u001b[38;5;241m1\u001b[39m, \u001b[38;5;241m3\u001b[39m)), GRB\u001b[38;5;241m.\u001b[39mMAXIMIZE)\n\u001b[0;32m      5\u001b[0m \u001b[38;5;66;03m#constraint 1 - shopper 1 has no more than one minute\u001b[39;00m\n\u001b[0;32m      6\u001b[0m model\u001b[38;5;241m.\u001b[39maddConstr(\u001b[38;5;241m0.1\u001b[39m \u001b[38;5;241m*\u001b[39m y[n\u001b[38;5;241m+\u001b[39m\u001b[38;5;241m1\u001b[39m] \u001b[38;5;241m+\u001b[39m quicksum(\u001b[38;5;241m2\u001b[39m \u001b[38;5;241m*\u001b[39m x[i, j] \u001b[38;5;28;01mfor\u001b[39;00m i \u001b[38;5;129;01min\u001b[39;00m \u001b[38;5;28mrange\u001b[39m(\u001b[38;5;241m1\u001b[39m, n) \u001b[38;5;28;01mfor\u001b[39;00m j \u001b[38;5;129;01min\u001b[39;00m \u001b[38;5;28mrange\u001b[39m(\u001b[38;5;241m2\u001b[39m, n\u001b[38;5;241m+\u001b[39m\u001b[38;5;241m2\u001b[39m)) \u001b[38;5;241m<\u001b[39m\u001b[38;5;241m=\u001b[39m \u001b[38;5;241m60\u001b[39m)\n",
      "\u001b[1;31mNameError\u001b[0m: name 'model' is not defined"
     ]
    }
   ],
   "source": [
    "#part e formulation\n",
    "\n",
    "model.setObjective(quicksum(prices[i] * x[a, i, j] for i in range(1, n+1) for j in range(2, n+2) for a in range(1, 3)), GRB.MAXIMIZE)\n",
    "\n",
    "#constraint 1 - shopper 1 has no more than one minute\n",
    "model.addConstr(0.1 * y[n+1] + quicksum(2 * x[i, j] for i in range(1, n) for j in range(2, n+2)) <= 60)\n",
    "\n",
    "#constraint 2 - basket limit\n",
    "model.addConstr(quicksum(x[i, j] for i in range(1, n+1) for j in range(2, n+2)) <= 10)\n",
    "                   \n",
    "#constraint 3 - no same item twice \n",
    "model.addConstrs(quicksum(x[i, j] for i in range(1, n+1)) <= 1 for j in range(2, n+2))\n",
    "\n",
    "#TSP constraints \n",
    "model.addConstrs(t[i, j] <= M * x[i, j] for i in range(1, n+1) for j in range(2, n+2))\n",
    "model.addConstr(y[1] == 0)\n",
    "model.addConstrs(y[j] == quicksum(t[i, j] for i in range(1, n+1)) for j in range(1, n+2))\n",
    "model.addConstrs((x[i, j] == 0) or (x[i, j] == 1) for i in range(1, n+1) for j in range(2, n+2))\n",
    "\n",
    "#adding the dij constraint\n",
    "model.addConstrs(d[i] == 0 for i in range(1, n+1) if x[i, 2] == 1)\n",
    "model.addConstrs(d[i] >= 1 for i in range(1, n+1) if x[i, 2] == 0)\n",
    "\n",
    "#the rest hehe\n",
    "\n",
    "model.setObjective(quicksum(prices[i] * x[a, i, j] for i in range(1, n+1) for j in range(2, n+2) for a in range(1, 3)), GRB.MAXIMIZE)\n",
    "\n",
    "\n",
    "#constraint 1 - shopper 1 has no more than one minute\n",
    "model.addConstr(0.1 * y[n+1] + quicksum(2 * x[i, j] for i in range(1, n) for j in range(2, n+2)) <= 60)\n",
    "\n",
    "#constraint 2 - basket limit\n",
    "model.addConstr(quicksum(x[i, j] for i in range(1, n+1) for j in range(2, n+2)) <= 10)\n",
    "                   \n",
    "#constraint 3 - no same item twice \n",
    "model.addConstrs(quicksum(x[i, j] for i in range(1, n+1)) <= 1 for j in range(2, n+2))\n",
    "\n",
    "#TSP constraints \n",
    "model.addConstrs(t[i, j] <= M * x[i, j] for i in range(1, n+1) for j in range(2, n+2))\n",
    "model.addConstr(y[1] == 0)\n",
    "model.addConstrs(y[j] == quicksum(t[i, j] for i in range(1, n+1)) for j in range(1, n+2))\n",
    "model.addConstrs((x[i, j] == 0) or (x[i, j] == 1) for i in range(1, n+1) for j in range(2, n+2))\n",
    "\n",
    "\n"
   ]
  },
  {
   "cell_type": "code",
   "execution_count": 265,
   "id": "406865a0",
   "metadata": {},
   "outputs": [
    {
     "name": "stdout",
     "output_type": "stream",
     "text": [
      "\n",
      "  Gurobi model object.  Commonly used methods on this object are:\n",
      "    getConstrs(): Get a list of constraints in the model\n",
      "    getJSONSolution(): Get a JSON-string representation of the current solution(s) to the model\n",
      "    getParamInfo(paramname): Get information on a model parameter.\n",
      "    getVars(): Get a list of variables in the model\n",
      "    optimize(): Optimize the model.\n",
      "    printAttr(attrname, filter): Print attribute values.\n",
      "    printQuality(): Print solution quality statistics.\n",
      "    printStats(): Print model statistics.\n",
      "    read(filename): Read model data (MIP start, basis, etc.) from a file\n",
      "    reset(): Discard any resident solution information.\n",
      "    resetParams(): Reset all parameters to their default values.\n",
      "    setParam(paramname, newval): Set a model parameter to a new value.\n",
      "    write(filename): Write model data to a file.\n",
      "\n",
      "  Models have a number of attributes that can be queried or modified.\n",
      "  For example, \"print model.objval\" prints the objective value of\n",
      "  the current solution.  Commonly used model attributes are:\n",
      "    numConstrs: Number of constraints in model\n",
      "    numVars: Number of variables in model\n",
      "    status: Optimization status\n",
      "    objVal: Objective of current solution\n",
      "  Type \"help(GRB.attr)\" for a complete list.\n",
      "\n",
      "  Additional methods on this object are:\n",
      "    addConstr(), addGenConstrMax(), addGenConstrMin(), addGenConstrAbs(),\n",
      "    addGenConstrAnd(), addGenConstrOr(), addGenConstrNorm(),\n",
      "    addGenConstrIndicator(), addGenConstrPWL(), addGenConstrPoly(),\n",
      "    addGenConstrExp(), addGenConstrExpA(), addGenConstrLog(),\n",
      "    addGenConstrLogA(), addGenConstrPow(), addGenConstrSin(),\n",
      "    addGenConstrCos(), addGenConstrTan(), addGenConstrLogistic(),\n",
      "    addRange(), addSOS(), addVar(), chgCoeff(), computeIIS(), copy(), fixed(),\n",
      "    getCoeff(), getCol(), getRow(), message(), presolve(), relax(), terminate(),\n",
      "    update()\n",
      "\n",
      "  Additional help can be obtained on any of these methods (e.g.,\n",
      "  help(Model.optimize)).\n",
      "  \n"
     ]
    }
   ],
   "source": [
    "help(model)"
   ]
  },
  {
   "cell_type": "code",
   "execution_count": null,
   "id": "9fdb32c1",
   "metadata": {},
   "outputs": [],
   "source": []
  }
 ],
 "metadata": {
  "kernelspec": {
   "display_name": "Python 3 (ipykernel)",
   "language": "python",
   "name": "python3"
  },
  "language_info": {
   "codemirror_mode": {
    "name": "ipython",
    "version": 3
   },
   "file_extension": ".py",
   "mimetype": "text/x-python",
   "name": "python",
   "nbconvert_exporter": "python",
   "pygments_lexer": "ipython3",
   "version": "3.9.12"
  }
 },
 "nbformat": 4,
 "nbformat_minor": 5
}
